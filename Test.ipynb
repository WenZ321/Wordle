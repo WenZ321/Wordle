{
 "cells": [
  {
   "cell_type": "code",
   "execution_count": 1,
   "id": "d3828e31",
   "metadata": {},
   "outputs": [
    {
     "name": "stdout",
     "output_type": "stream",
     "text": [
      "feens\n"
     ]
    }
   ],
   "source": [
    "import random\n",
    "\n",
    "file = open(\"words.txt\", \"r\")\n",
    "\n",
    "words = []\n",
    "\n",
    "for line in file:\n",
    "    words.append(line.strip())\n",
    "\n",
    "word = words[random.randint(0, len(words))]\n",
    "print(word)"
   ]
  },
  {
   "cell_type": "code",
   "execution_count": 2,
   "id": "1d5995dc",
   "metadata": {},
   "outputs": [
    {
     "name": "stdout",
     "output_type": "stream",
     "text": [
      "['green', 'yellow', 'green', 'gray', 'green']\n"
     ]
    }
   ],
   "source": [
    "word = \"hello\"\n",
    "guess = \"hllpo\"\n",
    "\n",
    "# Creates a dictionary of the indexes and the character at that index for the word the user is trying to guess\n",
    "word_letters = {index: letter for index, letter in enumerate(word)}\n",
    "\n",
    "# Returns an array of strings specifying the colors assigned to each box in given order\n",
    "def process_guess(guess):\n",
    "    # Creates another dictionary that is similar to word_letters, but for the guessed word\n",
    "    guess_letters = {index: letter for index, letter in enumerate(guess)}\n",
    "    placements = []\n",
    "    # Assigns colors to the letters\n",
    "    for i in range(len(guess_letters)):\n",
    "        if guess_letters[i] in word_letters.values():\n",
    "            if guess_letters[i] == word_letters[i]:\n",
    "                placements.append(\"green\")\n",
    "            else:\n",
    "                placements.append(\"yellow\")\n",
    "        else:\n",
    "            placements.append(\"gray\")\n",
    "    return placements\n",
    "        \n",
    "print(process_guess(guess))"
   ]
  },
  {
   "cell_type": "code",
   "execution_count": 76,
   "id": "5d980c35",
   "metadata": {},
   "outputs": [
    {
     "name": "stdout",
     "output_type": "stream",
     "text": [
      "word\n",
      "DECRY\n",
      "decry\n",
      "['green', 'green', 'green', 'green', 'green']\n",
      "DECRY\n"
     ]
    }
   ],
   "source": [
    "import random\n",
    "import sklearn as sk\n",
    "\n",
    "file = open(\"words.txt\", \"r\")\n",
    "\n",
    "words = []\n",
    "used_words = []\n",
    "\n",
    "for line in file:\n",
    "    words.append(line.strip())\n",
    "    \n",
    "# Creates a word list of used words\n",
    "word = words[random.randint(0, len(words))].upper()\n",
    "used_words.append(words.pop(words.index(word.lower())))\n",
    "\n",
    "# Creates a dictionary of the indexes and the character at that index for the word the user is trying to guess\n",
    "word_letters = {index: letter for index, letter in enumerate(word)}\n",
    "\n",
    "letters = \"ABCDEFGHIJKLMNOPQRSTUVWXYZ\"\n",
    "\n",
    "# Creates a dictionary of all the guessed letters\n",
    "guessed_letters = {letter: 0 for letter in letters}\n",
    "\n",
    "# Returns an array of strings specifying the colors assigned to each box in given order\n",
    "def process_guess(guess, correct_guesses):\n",
    "    # Creates another dictionary that is similar to word_letters, but for the guessed word\n",
    "    guess_letters = {index: letter for index, letter in enumerate(guess)}\n",
    "    placements = []\n",
    "    # Assigns colors to the letters\n",
    "    for i in range(len(guess_letters)):\n",
    "        if guess_letters[i] in word_letters.values():\n",
    "            if guess_letters[i] == word_letters[i]:\n",
    "                placements.append(\"green\")\n",
    "            else:\n",
    "                placements.append(\"yellow\")\n",
    "        else:\n",
    "            placements.append(\"gray\")\n",
    "    for i in range(len(guess)):\n",
    "        if correct_guesses[i] == 0:\n",
    "            guessed_letters[guess[i]] += 1\n",
    "            if placements[i] == \"green\":\n",
    "                correct_guesses[i] = 1\n",
    "        else:\n",
    "            if placements[i] != \"green\":\n",
    "                guessed_letters[guess[i]] += 1\n",
    "    return placements, correct_guesses\n",
    "        \n",
    "correct = [0, 0, 0, 0, 0]\n",
    "guessed = [\"gray\", \"gray\", \"gray\", \"gray\", \"gray\"]\n",
    "\n",
    "while guessed != [\"green\", \"green\", \"green\", \"green\", \"green\"]:\n",
    "    guess = input().strip().lower()\n",
    "    if guess == \"word\":\n",
    "        print(word)\n",
    "    elif guess not in used_words and guess not in words:\n",
    "        print(\"Not a valid word\")\n",
    "    else:\n",
    "        guessed, correct = process_guess(guess.upper(), correct_guesses)\n",
    "        print(guessed)\n",
    "\n",
    "print(word)"
   ]
  },
  {
   "cell_type": "code",
   "execution_count": 78,
   "id": "711b6cae",
   "metadata": {},
   "outputs": [
    {
     "ename": "MemoryError",
     "evalue": "Unable to allocate 3.12 GiB for an array with shape (12984, 32238) and data type float64",
     "output_type": "error",
     "traceback": [
      "\u001b[1;31m---------------------------------------------------------------------------\u001b[0m",
      "\u001b[1;31mMemoryError\u001b[0m                               Traceback (most recent call last)",
      "Cell \u001b[1;32mIn[78], line 6\u001b[0m\n\u001b[0;32m      3\u001b[0m \u001b[38;5;28;01mfrom\u001b[39;00m \u001b[38;5;21;01msklearn\u001b[39;00m\u001b[38;5;21;01m.\u001b[39;00m\u001b[38;5;21;01mmodel_selection\u001b[39;00m \u001b[38;5;28;01mimport\u001b[39;00m train_test_split\n\u001b[0;32m      5\u001b[0m \u001b[38;5;66;03m# Assuming 'words' is your list of words and 'vectorizer' is already fitted as before\u001b[39;00m\n\u001b[1;32m----> 6\u001b[0m X \u001b[38;5;241m=\u001b[39m \u001b[43mvectorizer\u001b[49m\u001b[38;5;241;43m.\u001b[39;49m\u001b[43mtransform\u001b[49m\u001b[43m(\u001b[49m\u001b[43mwords\u001b[49m\u001b[43m)\u001b[49m\u001b[38;5;241;43m.\u001b[39;49m\u001b[43mtoarray\u001b[49m\u001b[43m(\u001b[49m\u001b[43m)\u001b[49m  \u001b[38;5;66;03m# Transform the words into features\u001b[39;00m\n\u001b[0;32m      8\u001b[0m \u001b[38;5;66;03m# Train-test split for demonstration; in practice, you might just predict on new/unseen data\u001b[39;00m\n\u001b[0;32m      9\u001b[0m X_train, X_test, y_train, y_test, words_train, words_test \u001b[38;5;241m=\u001b[39m train_test_split(X, y, words, test_size\u001b[38;5;241m=\u001b[39m\u001b[38;5;241m0.2\u001b[39m, random_state\u001b[38;5;241m=\u001b[39m\u001b[38;5;241m42\u001b[39m)\n",
      "File \u001b[1;32mC:\\ProgramData\\anaconda3\\lib\\site-packages\\scipy\\sparse\\_compressed.py:1051\u001b[0m, in \u001b[0;36m_cs_matrix.toarray\u001b[1;34m(self, order, out)\u001b[0m\n\u001b[0;32m   1049\u001b[0m \u001b[38;5;28;01mif\u001b[39;00m out \u001b[38;5;129;01mis\u001b[39;00m \u001b[38;5;28;01mNone\u001b[39;00m \u001b[38;5;129;01mand\u001b[39;00m order \u001b[38;5;129;01mis\u001b[39;00m \u001b[38;5;28;01mNone\u001b[39;00m:\n\u001b[0;32m   1050\u001b[0m     order \u001b[38;5;241m=\u001b[39m \u001b[38;5;28mself\u001b[39m\u001b[38;5;241m.\u001b[39m_swap(\u001b[38;5;124m'\u001b[39m\u001b[38;5;124mcf\u001b[39m\u001b[38;5;124m'\u001b[39m)[\u001b[38;5;241m0\u001b[39m]\n\u001b[1;32m-> 1051\u001b[0m out \u001b[38;5;241m=\u001b[39m \u001b[38;5;28;43mself\u001b[39;49m\u001b[38;5;241;43m.\u001b[39;49m\u001b[43m_process_toarray_args\u001b[49m\u001b[43m(\u001b[49m\u001b[43morder\u001b[49m\u001b[43m,\u001b[49m\u001b[43m \u001b[49m\u001b[43mout\u001b[49m\u001b[43m)\u001b[49m\n\u001b[0;32m   1052\u001b[0m \u001b[38;5;28;01mif\u001b[39;00m \u001b[38;5;129;01mnot\u001b[39;00m (out\u001b[38;5;241m.\u001b[39mflags\u001b[38;5;241m.\u001b[39mc_contiguous \u001b[38;5;129;01mor\u001b[39;00m out\u001b[38;5;241m.\u001b[39mflags\u001b[38;5;241m.\u001b[39mf_contiguous):\n\u001b[0;32m   1053\u001b[0m     \u001b[38;5;28;01mraise\u001b[39;00m \u001b[38;5;167;01mValueError\u001b[39;00m(\u001b[38;5;124m'\u001b[39m\u001b[38;5;124mOutput array must be C or F contiguous\u001b[39m\u001b[38;5;124m'\u001b[39m)\n",
      "File \u001b[1;32mC:\\ProgramData\\anaconda3\\lib\\site-packages\\scipy\\sparse\\_base.py:1298\u001b[0m, in \u001b[0;36mspmatrix._process_toarray_args\u001b[1;34m(self, order, out)\u001b[0m\n\u001b[0;32m   1296\u001b[0m     \u001b[38;5;28;01mreturn\u001b[39;00m out\n\u001b[0;32m   1297\u001b[0m \u001b[38;5;28;01melse\u001b[39;00m:\n\u001b[1;32m-> 1298\u001b[0m     \u001b[38;5;28;01mreturn\u001b[39;00m \u001b[43mnp\u001b[49m\u001b[38;5;241;43m.\u001b[39;49m\u001b[43mzeros\u001b[49m\u001b[43m(\u001b[49m\u001b[38;5;28;43mself\u001b[39;49m\u001b[38;5;241;43m.\u001b[39;49m\u001b[43mshape\u001b[49m\u001b[43m,\u001b[49m\u001b[43m \u001b[49m\u001b[43mdtype\u001b[49m\u001b[38;5;241;43m=\u001b[39;49m\u001b[38;5;28;43mself\u001b[39;49m\u001b[38;5;241;43m.\u001b[39;49m\u001b[43mdtype\u001b[49m\u001b[43m,\u001b[49m\u001b[43m \u001b[49m\u001b[43morder\u001b[49m\u001b[38;5;241;43m=\u001b[39;49m\u001b[43morder\u001b[49m\u001b[43m)\u001b[49m\n",
      "\u001b[1;31mMemoryError\u001b[0m: Unable to allocate 3.12 GiB for an array with shape (12984, 32238) and data type float64"
     ]
    }
   ],
   "source": [
    "from sklearn.feature_extraction.text import TfidfVectorizer\n",
    "from sklearn.ensemble import RandomForestClassifier\n",
    "from sklearn.model_selection import train_test_split\n",
    "\n",
    "# Assuming 'words' is your list of words and 'vectorizer' is already fitted as before\n",
    "X = vectorizer.transform(words).toarray()  # Transform the words into features\n",
    "\n",
    "# Train-test split for demonstration; in practice, you might just predict on new/unseen data\n",
    "X_train, X_test, y_train, y_test, words_train, words_test = train_test_split(X, y, words, test_size=0.2, random_state=42)\n",
    "\n",
    "# Train the model\n",
    "model = RandomForestClassifier(n_estimators=100, random_state=42)\n",
    "model.fit(X_train, y_train)\n",
    "\n",
    "# Predict probabilities\n",
    "predicted_probabilities = model.predict_proba(X_test)\n",
    "\n",
    "# Check if predicted_probabilities has two columns; if not, handle accordingly\n",
    "if predicted_probabilities.shape[1] == 1:\n",
    "    # Assuming the only column corresponds to the probability of class 1 being present\n",
    "    # And thus the probability of class 0 is 1 - probability of class 1\n",
    "    hardness_scores = 1 - predicted_probabilities[:, 0]\n",
    "else:\n",
    "    # Normal case where both probabilities are present\n",
    "    hardness_scores = predicted_probabilities[:, 1]\n",
    "\n",
    "# Continue with pairing words with their hardness scores and sorting\n",
    "word_difficulty_pairs = list(zip(words_test, hardness_scores))\n",
    "sorted_word_difficulty_pairs = sorted(word_difficulty_pairs, key=lambda x: x[1], reverse=True)\n",
    "\n",
    "# Extract and print sorted words and scores\n",
    "sorted_words = [pair[0] for pair in sorted_word_difficulty_pairs]\n",
    "sorted_scores = [pair[1] for pair in sorted_word_difficulty_pairs]\n",
    "\n",
    "for word, score in zip(sorted_words, sorted_scores):\n",
    "    print(f\"Word: {word}, Hardness Score: {score}\")\n"
   ]
  },
  {
   "cell_type": "code",
   "execution_count": null,
   "id": "40b55124",
   "metadata": {},
   "outputs": [],
   "source": []
  }
 ],
 "metadata": {
  "kernelspec": {
   "display_name": "Python 3 (ipykernel)",
   "language": "python",
   "name": "python3"
  },
  "language_info": {
   "codemirror_mode": {
    "name": "ipython",
    "version": 3
   },
   "file_extension": ".py",
   "mimetype": "text/x-python",
   "name": "python",
   "nbconvert_exporter": "python",
   "pygments_lexer": "ipython3",
   "version": "3.10.9"
  }
 },
 "nbformat": 4,
 "nbformat_minor": 5
}
