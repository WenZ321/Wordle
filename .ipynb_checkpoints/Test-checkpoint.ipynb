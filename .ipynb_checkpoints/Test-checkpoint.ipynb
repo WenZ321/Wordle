{
 "cells": [
  {
   "cell_type": "code",
   "execution_count": 6,
   "id": "d3828e31",
   "metadata": {},
   "outputs": [
    {
     "name": "stdout",
     "output_type": "stream",
     "text": [
      "rosha\n"
     ]
    }
   ],
   "source": [
    "import random\n",
    "\n",
    "file = open(\"words.txt\", \"r\")\n",
    "\n",
    "words = []\n",
    "\n",
    "for line in file:\n",
    "    words.append(line.strip())\n",
    "\n",
    "word = words[random.randint(0, len(words))]\n",
    "print(word)"
   ]
  },
  {
   "cell_type": "code",
   "execution_count": 2,
   "id": "1d5995dc",
   "metadata": {},
   "outputs": [
    {
     "name": "stdout",
     "output_type": "stream",
     "text": [
      "['green', 'yellow', 'green', 'gray', 'green']\n"
     ]
    }
   ],
   "source": [
    "word = \"hello\"\n",
    "guess = \"hllpo\"\n",
    "\n",
    "# Creates a dictionary of the indexes and the character at that index for the word the user is trying to guess\n",
    "word_letters = {index: letter for index, letter in enumerate(word)}\n",
    "\n",
    "# Returns an array of strings specifying the colors assigned to each box in given order\n",
    "def process_guess(guess):\n",
    "    # Creates another dictionary that is similar to word_letters, but for the guessed word\n",
    "    guess_letters = {index: letter for index, letter in enumerate(guess)}\n",
    "    placements = []\n",
    "    # Assigns colors to the letters\n",
    "    for i in range(len(guess_letters)):\n",
    "        if guess_letters[i] in word_letters.values():\n",
    "            if guess_letters[i] == word_letters[i]:\n",
    "                placements.append(\"green\")\n",
    "            else:\n",
    "                placements.append(\"yellow\")\n",
    "        else:\n",
    "            placements.append(\"gray\")\n",
    "    return placements\n",
    "        \n",
    "print(process_guess(guess))"
   ]
  },
  {
   "cell_type": "code",
   "execution_count": 29,
   "id": "5d980c35",
   "metadata": {},
   "outputs": [
    {
     "name": "stdout",
     "output_type": "stream",
     "text": [
      "slate\n",
      "['gray', 'gray', 'gray', 'gray', 'green']\n",
      "word\n",
      "CHORE\n",
      "chore\n",
      "['green', 'green', 'green', 'green', 'green']\n",
      "CHORE\n"
     ]
    }
   ],
   "source": [
    "import random\n",
    "import sklearn as sk\n",
    "\n",
    "file = open(\"words.txt\", \"r\")\n",
    "\n",
    "words = []\n",
    "used_words = []\n",
    "\n",
    "for line in file:\n",
    "    words.append(line.strip())\n",
    "    \n",
    "# Creates a word list of used words\n",
    "word = words[random.randint(0, len(words))].upper()\n",
    "used_words.append(words.pop(words.index(word.lower())))\n",
    "\n",
    "# Creates a dictionary of the indexes and the character at that index for the word the user is trying to guess\n",
    "word_letters = {index: letter for index, letter in enumerate(word)}\n",
    "\n",
    "letters = \"ABCDEFGHIJKLMNOPQRSTUVWXYZ\"\n",
    "\n",
    "# Creates a dictionary of all the guessed letters\n",
    "guessed_letters = {letter: 0 for letter in letters}\n",
    "\n",
    "# Returns an array of strings specifying the colors assigned to each box in given order\n",
    "def process_guess(guess, correct_guesses):\n",
    "    # Creates another dictionary that is similar to word_letters, but for the guessed word\n",
    "    guess_letters = {index: letter for index, letter in enumerate(guess)}\n",
    "    placements = []\n",
    "    # Assigns colors to the letters\n",
    "    for i in range(len(guess_letters)):\n",
    "        if guess_letters[i] in word_letters.values():\n",
    "            if guess_letters[i] == word_letters[i]:\n",
    "                placements.append(\"green\")\n",
    "            else:\n",
    "                placements.append(\"yellow\")\n",
    "        else:\n",
    "            placements.append(\"gray\")\n",
    "    for i in range(len(guess)):\n",
    "        if correct_guesses[i] == 0:\n",
    "            guessed_letters[guess[i]] += 1\n",
    "            if placements[i] == \"green\":\n",
    "                correct_guesses[i] = 1\n",
    "        else:\n",
    "            if placements[i] != \"green\":\n",
    "                guessed_letters[guess[i]] += 1\n",
    "    return placements, correct_guesses\n",
    "        \n",
    "correct = [0, 0, 0, 0, 0]\n",
    "guessed = [\"gray\", \"gray\", \"gray\", \"gray\", \"gray\"]\n",
    "\n",
    "while guessed != [\"green\", \"green\", \"green\", \"green\", \"green\"]:\n",
    "    guess = input().strip().lower()\n",
    "    if guess == \"word\":\n",
    "        print(word)\n",
    "    elif guess not in used_words and guess not in words:\n",
    "        print(\"Not a valid word\")\n",
    "    else:\n",
    "        guessed, correct = process_guess(guess.upper(), correct)\n",
    "        print(guessed)\n",
    "\n",
    "print(word)"
   ]
  },
  {
   "cell_type": "code",
   "execution_count": 31,
   "id": "40b55124",
   "metadata": {},
   "outputs": [],
   "source": [
    "file = open(\"Training.txt\", \"r\")\n",
    "training = []\n",
    "\n",
    "for line in file:\n",
    "    data = line.split()\n",
    "    training.append([data[0], float(data[1])])\n",
    "    \n",
    "x = [data[0] for data in training]\n",
    "y = [data[1] for data in training]"
   ]
  },
  {
   "cell_type": "code",
   "execution_count": 36,
   "id": "fce8c900",
   "metadata": {},
   "outputs": [
    {
     "ename": "ValueError",
     "evalue": "Expected 2D array, got 1D array instead:\narray=['rossa' 'jetty' 'wizzo' ... 'fungs' 'cadgy' 'jalap'].\nReshape your data either using array.reshape(-1, 1) if your data has a single feature or array.reshape(1, -1) if it contains a single sample.",
     "output_type": "error",
     "traceback": [
      "\u001b[1;31m---------------------------------------------------------------------------\u001b[0m",
      "\u001b[1;31mValueError\u001b[0m                                Traceback (most recent call last)",
      "Cell \u001b[1;32mIn[36], line 22\u001b[0m\n\u001b[0;32m     19\u001b[0m model\u001b[38;5;241m.\u001b[39mfit(X_train, y_train)\n\u001b[0;32m     21\u001b[0m \u001b[38;5;66;03m# Predict on your test set (or any new data)\u001b[39;00m\n\u001b[1;32m---> 22\u001b[0m predictions \u001b[38;5;241m=\u001b[39m \u001b[43mmodel\u001b[49m\u001b[38;5;241;43m.\u001b[39;49m\u001b[43mpredict\u001b[49m\u001b[43m(\u001b[49m\u001b[43mX_test\u001b[49m\u001b[43m)\u001b[49m\n\u001b[0;32m     24\u001b[0m \u001b[38;5;66;03m# Evaluate the model\u001b[39;00m\n\u001b[0;32m     25\u001b[0m mse \u001b[38;5;241m=\u001b[39m mean_squared_error(y_test, predictions)\n",
      "File \u001b[1;32mC:\\ProgramData\\anaconda3\\lib\\site-packages\\sklearn\\linear_model\\_base.py:354\u001b[0m, in \u001b[0;36mLinearModel.predict\u001b[1;34m(self, X)\u001b[0m\n\u001b[0;32m    340\u001b[0m \u001b[38;5;28;01mdef\u001b[39;00m \u001b[38;5;21mpredict\u001b[39m(\u001b[38;5;28mself\u001b[39m, X):\n\u001b[0;32m    341\u001b[0m     \u001b[38;5;124;03m\"\"\"\u001b[39;00m\n\u001b[0;32m    342\u001b[0m \u001b[38;5;124;03m    Predict using the linear model.\u001b[39;00m\n\u001b[0;32m    343\u001b[0m \n\u001b[1;32m   (...)\u001b[0m\n\u001b[0;32m    352\u001b[0m \u001b[38;5;124;03m        Returns predicted values.\u001b[39;00m\n\u001b[0;32m    353\u001b[0m \u001b[38;5;124;03m    \"\"\"\u001b[39;00m\n\u001b[1;32m--> 354\u001b[0m     \u001b[38;5;28;01mreturn\u001b[39;00m \u001b[38;5;28;43mself\u001b[39;49m\u001b[38;5;241;43m.\u001b[39;49m\u001b[43m_decision_function\u001b[49m\u001b[43m(\u001b[49m\u001b[43mX\u001b[49m\u001b[43m)\u001b[49m\n",
      "File \u001b[1;32mC:\\ProgramData\\anaconda3\\lib\\site-packages\\sklearn\\linear_model\\_base.py:337\u001b[0m, in \u001b[0;36mLinearModel._decision_function\u001b[1;34m(self, X)\u001b[0m\n\u001b[0;32m    334\u001b[0m \u001b[38;5;28;01mdef\u001b[39;00m \u001b[38;5;21m_decision_function\u001b[39m(\u001b[38;5;28mself\u001b[39m, X):\n\u001b[0;32m    335\u001b[0m     check_is_fitted(\u001b[38;5;28mself\u001b[39m)\n\u001b[1;32m--> 337\u001b[0m     X \u001b[38;5;241m=\u001b[39m \u001b[38;5;28;43mself\u001b[39;49m\u001b[38;5;241;43m.\u001b[39;49m\u001b[43m_validate_data\u001b[49m\u001b[43m(\u001b[49m\u001b[43mX\u001b[49m\u001b[43m,\u001b[49m\u001b[43m \u001b[49m\u001b[43maccept_sparse\u001b[49m\u001b[38;5;241;43m=\u001b[39;49m\u001b[43m[\u001b[49m\u001b[38;5;124;43m\"\u001b[39;49m\u001b[38;5;124;43mcsr\u001b[39;49m\u001b[38;5;124;43m\"\u001b[39;49m\u001b[43m,\u001b[49m\u001b[43m \u001b[49m\u001b[38;5;124;43m\"\u001b[39;49m\u001b[38;5;124;43mcsc\u001b[39;49m\u001b[38;5;124;43m\"\u001b[39;49m\u001b[43m,\u001b[49m\u001b[43m \u001b[49m\u001b[38;5;124;43m\"\u001b[39;49m\u001b[38;5;124;43mcoo\u001b[39;49m\u001b[38;5;124;43m\"\u001b[39;49m\u001b[43m]\u001b[49m\u001b[43m,\u001b[49m\u001b[43m \u001b[49m\u001b[43mreset\u001b[49m\u001b[38;5;241;43m=\u001b[39;49m\u001b[38;5;28;43;01mFalse\u001b[39;49;00m\u001b[43m)\u001b[49m\n\u001b[0;32m    338\u001b[0m     \u001b[38;5;28;01mreturn\u001b[39;00m safe_sparse_dot(X, \u001b[38;5;28mself\u001b[39m\u001b[38;5;241m.\u001b[39mcoef_\u001b[38;5;241m.\u001b[39mT, dense_output\u001b[38;5;241m=\u001b[39m\u001b[38;5;28;01mTrue\u001b[39;00m) \u001b[38;5;241m+\u001b[39m \u001b[38;5;28mself\u001b[39m\u001b[38;5;241m.\u001b[39mintercept_\n",
      "File \u001b[1;32mC:\\ProgramData\\anaconda3\\lib\\site-packages\\sklearn\\base.py:565\u001b[0m, in \u001b[0;36mBaseEstimator._validate_data\u001b[1;34m(self, X, y, reset, validate_separately, **check_params)\u001b[0m\n\u001b[0;32m    563\u001b[0m     \u001b[38;5;28;01mraise\u001b[39;00m \u001b[38;5;167;01mValueError\u001b[39;00m(\u001b[38;5;124m\"\u001b[39m\u001b[38;5;124mValidation should be done on X, y or both.\u001b[39m\u001b[38;5;124m\"\u001b[39m)\n\u001b[0;32m    564\u001b[0m \u001b[38;5;28;01melif\u001b[39;00m \u001b[38;5;129;01mnot\u001b[39;00m no_val_X \u001b[38;5;129;01mand\u001b[39;00m no_val_y:\n\u001b[1;32m--> 565\u001b[0m     X \u001b[38;5;241m=\u001b[39m check_array(X, input_name\u001b[38;5;241m=\u001b[39m\u001b[38;5;124m\"\u001b[39m\u001b[38;5;124mX\u001b[39m\u001b[38;5;124m\"\u001b[39m, \u001b[38;5;241m*\u001b[39m\u001b[38;5;241m*\u001b[39mcheck_params)\n\u001b[0;32m    566\u001b[0m     out \u001b[38;5;241m=\u001b[39m X\n\u001b[0;32m    567\u001b[0m \u001b[38;5;28;01melif\u001b[39;00m no_val_X \u001b[38;5;129;01mand\u001b[39;00m \u001b[38;5;129;01mnot\u001b[39;00m no_val_y:\n",
      "File \u001b[1;32mC:\\ProgramData\\anaconda3\\lib\\site-packages\\sklearn\\utils\\validation.py:902\u001b[0m, in \u001b[0;36mcheck_array\u001b[1;34m(array, accept_sparse, accept_large_sparse, dtype, order, copy, force_all_finite, ensure_2d, allow_nd, ensure_min_samples, ensure_min_features, estimator, input_name)\u001b[0m\n\u001b[0;32m    900\u001b[0m     \u001b[38;5;66;03m# If input is 1D raise error\u001b[39;00m\n\u001b[0;32m    901\u001b[0m     \u001b[38;5;28;01mif\u001b[39;00m array\u001b[38;5;241m.\u001b[39mndim \u001b[38;5;241m==\u001b[39m \u001b[38;5;241m1\u001b[39m:\n\u001b[1;32m--> 902\u001b[0m         \u001b[38;5;28;01mraise\u001b[39;00m \u001b[38;5;167;01mValueError\u001b[39;00m(\n\u001b[0;32m    903\u001b[0m             \u001b[38;5;124m\"\u001b[39m\u001b[38;5;124mExpected 2D array, got 1D array instead:\u001b[39m\u001b[38;5;130;01m\\n\u001b[39;00m\u001b[38;5;124marray=\u001b[39m\u001b[38;5;132;01m{}\u001b[39;00m\u001b[38;5;124m.\u001b[39m\u001b[38;5;130;01m\\n\u001b[39;00m\u001b[38;5;124m\"\u001b[39m\n\u001b[0;32m    904\u001b[0m             \u001b[38;5;124m\"\u001b[39m\u001b[38;5;124mReshape your data either using array.reshape(-1, 1) if \u001b[39m\u001b[38;5;124m\"\u001b[39m\n\u001b[0;32m    905\u001b[0m             \u001b[38;5;124m\"\u001b[39m\u001b[38;5;124myour data has a single feature or array.reshape(1, -1) \u001b[39m\u001b[38;5;124m\"\u001b[39m\n\u001b[0;32m    906\u001b[0m             \u001b[38;5;124m\"\u001b[39m\u001b[38;5;124mif it contains a single sample.\u001b[39m\u001b[38;5;124m\"\u001b[39m\u001b[38;5;241m.\u001b[39mformat(array)\n\u001b[0;32m    907\u001b[0m         )\n\u001b[0;32m    909\u001b[0m \u001b[38;5;28;01mif\u001b[39;00m dtype_numeric \u001b[38;5;129;01mand\u001b[39;00m array\u001b[38;5;241m.\u001b[39mdtype\u001b[38;5;241m.\u001b[39mkind \u001b[38;5;129;01min\u001b[39;00m \u001b[38;5;124m\"\u001b[39m\u001b[38;5;124mUSV\u001b[39m\u001b[38;5;124m\"\u001b[39m:\n\u001b[0;32m    910\u001b[0m     \u001b[38;5;28;01mraise\u001b[39;00m \u001b[38;5;167;01mValueError\u001b[39;00m(\n\u001b[0;32m    911\u001b[0m         \u001b[38;5;124m\"\u001b[39m\u001b[38;5;124mdtype=\u001b[39m\u001b[38;5;124m'\u001b[39m\u001b[38;5;124mnumeric\u001b[39m\u001b[38;5;124m'\u001b[39m\u001b[38;5;124m is not compatible with arrays of bytes/strings.\u001b[39m\u001b[38;5;124m\"\u001b[39m\n\u001b[0;32m    912\u001b[0m         \u001b[38;5;124m\"\u001b[39m\u001b[38;5;124mConvert your data to numeric values explicitly instead.\u001b[39m\u001b[38;5;124m\"\u001b[39m\n\u001b[0;32m    913\u001b[0m     )\n",
      "\u001b[1;31mValueError\u001b[0m: Expected 2D array, got 1D array instead:\narray=['rossa' 'jetty' 'wizzo' ... 'fungs' 'cadgy' 'jalap'].\nReshape your data either using array.reshape(-1, 1) if your data has a single feature or array.reshape(1, -1) if it contains a single sample."
     ]
    }
   ],
   "source": [
    "from sklearn.feature_extraction.text import TfidfVectorizer\n",
    "from sklearn.model_selection import train_test_split\n",
    "from sklearn.linear_model import LinearRegression\n",
    "from sklearn.metrics import mean_squared_error\n",
    "import numpy as np\n",
    "\n",
    "# Assuming you've already read your data into `x` and `y`\n",
    "\n",
    "# Convert your words into TF-IDF features\n",
    "vectorizer = TfidfVectorizer()\n",
    "X_tfidf = vectorizer.fit_transform(x)\n",
    "\n",
    "# Split data into training and test sets (if you have separate test data, this step can be modified)\n",
    "X_train, y_train = X_tfidf, y\n",
    "\n",
    "X_tfidf = vectorizer.fit_transform(words)\n",
    "X_test = \n",
    "\n",
    "# Train a linear regression model\n",
    "model = LinearRegression()\n",
    "model.fit(X_train, y_train)\n",
    "\n",
    "# Predict on your test set (or any new data)\n",
    "predictions = model.predict(X_test)\n",
    "\n",
    "# Evaluate the model\n",
    "mse = mean_squared_error(y_test, predictions)\n",
    "print(f\"Mean Squared Error: {mse}\")\n",
    "\n",
    "# To predict the average amount of guesses for new words\n",
    "def predict_new_words(new_words):\n",
    "    new_words_tfidf = vectorizer.transform(new_words)\n",
    "    predictions = model.predict(new_words_tfidf)\n",
    "    return predictions\n",
    "\n",
    "# Example usage\n",
    "# Replace these with your actual words array\n",
    "predictions = predict_new_words(words)\n",
    "print(predictions)\n"
   ]
  },
  {
   "cell_type": "code",
   "execution_count": null,
   "id": "5d46b5de",
   "metadata": {},
   "outputs": [],
   "source": []
  }
 ],
 "metadata": {
  "kernelspec": {
   "display_name": "Python 3 (ipykernel)",
   "language": "python",
   "name": "python3"
  },
  "language_info": {
   "codemirror_mode": {
    "name": "ipython",
    "version": 3
   },
   "file_extension": ".py",
   "mimetype": "text/x-python",
   "name": "python",
   "nbconvert_exporter": "python",
   "pygments_lexer": "ipython3",
   "version": "3.10.9"
  }
 },
 "nbformat": 4,
 "nbformat_minor": 5
}
